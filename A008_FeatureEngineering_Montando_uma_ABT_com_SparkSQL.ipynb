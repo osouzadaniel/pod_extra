{
  "nbformat": 4,
  "nbformat_minor": 0,
  "metadata": {
    "colab": {
      "provenance": []
    },
    "kernelspec": {
      "name": "python3",
      "display_name": "Python 3"
    },
    "language_info": {
      "name": "python"
    }
  },
  "cells": [
    {
      "cell_type": "markdown",
      "source": [
        "# Neste notebook vamos aprender a:\n",
        "\n",
        "- Ler dados com spark\n",
        "- Habilitar uso do Spark.SQL\n",
        "- Criar variáveis explicativas para Machine Learning\n",
        "- Montar uma Tabela Analítica de Modelagem (ABT)\n",
        "- Gerar amostra para estudos e modelagem\n",
        "- Salvar dados"
      ],
      "metadata": {
        "id": "ZPjl27_eotxn"
      }
    },
    {
      "cell_type": "code",
      "execution_count": 1,
      "metadata": {
        "id": "C7aQ-oswolRc"
      },
      "outputs": [],
      "source": [
        "!apt-get install openjdk-8-jdk-headless -qq > /dev/null\n",
        "!wget -q https://archive.apache.org/dist/spark/spark-3.1.2/spark-3.1.2-bin-hadoop3.2.tgz\n",
        "!tar xf spark-3.1.2-bin-hadoop3.2.tgz\n",
        "!pip install -q findspark"
      ]
    },
    {
      "cell_type": "code",
      "source": [
        "import os\n",
        "os.environ[\"JAVA_HOME\"] = \"/usr/lib/jvm/java-8-openjdk-amd64\"\n",
        "os.environ[\"SPARK_HOME\"] = \"/content/spark-3.1.2-bin-hadoop3.2\""
      ],
      "metadata": {
        "id": "6UZgFiOApXTQ"
      },
      "execution_count": 2,
      "outputs": []
    },
    {
      "cell_type": "code",
      "source": [
        "import findspark\n",
        "findspark.init()\n",
        "from pyspark.sql import SparkSession\n",
        "spark = SparkSession.builder.master(\"local[*]\").getOrCreate()"
      ],
      "metadata": {
        "id": "przJGyDKpBNw"
      },
      "execution_count": 3,
      "outputs": []
    },
    {
      "cell_type": "markdown",
      "source": [
        "#### Lendo dados com Spark"
      ],
      "metadata": {
        "id": "4Wk1UUYtpImw"
      }
    },
    {
      "cell_type": "code",
      "source": [
        "df_transacoes = spark.read.csv(\"/content/drive/Shareddrives/PoD Academy/Cursos/Formação em Ciência de Dados/dados/sinteticos/base_transacoes.csv\",\n",
        "                               header=True,\n",
        "                               inferSchema=True)\n",
        "\n",
        "## Habilitando uso do SparkSQL\n",
        "df_transacoes.createOrReplaceTempView(\"df_transacoes\")"
      ],
      "metadata": {
        "id": "DIokGmMopGXS"
      },
      "execution_count": 4,
      "outputs": []
    },
    {
      "cell_type": "code",
      "source": [
        "df_publico = spark.read.csv(\"/content/drive/Shareddrives/PoD Academy/Cursos/Formação em Ciência de Dados/dados/sinteticos/base_churn.csv\", header=True, inferSchema=True)\n",
        "df_publico.createOrReplaceTempView(\"df_publico\")"
      ],
      "metadata": {
        "id": "DhbUIyeuq9j_"
      },
      "execution_count": 5,
      "outputs": []
    },
    {
      "cell_type": "code",
      "source": [
        "df_publico.show(10)"
      ],
      "metadata": {
        "colab": {
          "base_uri": "https://localhost:8080/"
        },
        "id": "iEGDMWHUrAIY",
        "outputId": "9be4afe5-95cf-4b56-9208-4a9e198d5a7f"
      },
      "execution_count": 6,
      "outputs": [
        {
          "output_type": "stream",
          "name": "stdout",
          "text": [
            "+---+-----+------+----------------------+------------+-------------+-----+\n",
            "| ID|Idade|Gênero|Dias desde a Inscrição|Usou Suporte|        Plano|Churn|\n",
            "+---+-----+------+----------------------+------------+-------------+-----+\n",
            "|  1|   21|     F|                  1331|           1|Intermediário|    1|\n",
            "|  2|   21|     M|                  1160|           0|Intermediário|    0|\n",
            "|  3|   62|     M|                   454|           1|       Básico|    0|\n",
            "|  4|   64|     M|                   226|           1|Intermediário|    0|\n",
            "|  5|   61|     M|                   474|           1|     Avançado|    0|\n",
            "|  6|   18|     M|                   419|           0|       Básico|    0|\n",
            "|  7|   52|     M|                  1334|           0|       Básico|    0|\n",
            "|  8|   44|     M|                  1124|           1|Intermediário|    0|\n",
            "|  9|   52|     M|                  1256|           1|Intermediário|    0|\n",
            "| 10|   64|     F|                  1197|           0|       Básico|    0|\n",
            "+---+-----+------+----------------------+------------+-------------+-----+\n",
            "only showing top 10 rows\n",
            "\n"
          ]
        }
      ]
    },
    {
      "cell_type": "code",
      "source": [
        "df_transacoes.show(5,False)"
      ],
      "metadata": {
        "colab": {
          "base_uri": "https://localhost:8080/"
        },
        "id": "FHzd9xRrpSIH",
        "outputId": "da3753b6-d00b-47e9-c3c6-833fa4fd1414"
      },
      "execution_count": 11,
      "outputs": [
        {
          "output_type": "stream",
          "name": "stdout",
          "text": [
            "+------------+----------+-----------------------------+------------------+-----------+\n",
            "|ID Transação|ID Cliente|Data                         |Valor             |Categoria  |\n",
            "+------------+----------+-----------------------------+------------------+-----------+\n",
            "|1           |1         |2022-11-25 13:50:26.548672560|57.287427536330505|Esportes   |\n",
            "|2           |1         |2020-01-19 12:27:36.637168141|97.07199340552512 |Alimentos  |\n",
            "|3           |1         |2021-12-28 12:33:58.938053096|169.10581012381087|Livros     |\n",
            "|4           |1         |2022-02-05 01:39:49.380530968|199.38694865538451|Roupas     |\n",
            "|5           |1         |2022-11-16 23:06:54.159292032|160.00228343317622|Eletrônicos|\n",
            "+------------+----------+-----------------------------+------------------+-----------+\n",
            "only showing top 5 rows\n",
            "\n"
          ]
        }
      ]
    },
    {
      "cell_type": "markdown",
      "source": [
        "#### Criando flags de janela para histórico:\n",
        "- últimos 3 meses\n",
        "- últimos 6 meses\n",
        "- últimos 12 meses"
      ],
      "metadata": {
        "id": "kelSgs0JredJ"
      }
    },
    {
      "cell_type": "code",
      "source": [
        "df_temp_01 = spark.sql(\"\"\"\n",
        "SELECT\n",
        "    *,\n",
        "      CASE\n",
        "        WHEN Data BETWEEN DATE_ADD(MAX(Data) OVER (PARTITION BY `ID Cliente`), -90) AND MAX(Data) OVER (PARTITION BY `ID Cliente`) THEN 1\n",
        "        ELSE 0\n",
        "    END AS ultimos_3_meses_flag,\n",
        "    CASE\n",
        "        WHEN Data BETWEEN DATE_ADD(MAX(Data) OVER (PARTITION BY `ID Cliente`), -180) AND MAX(Data) OVER (PARTITION BY `ID Cliente`) THEN 1\n",
        "        ELSE 0\n",
        "    END AS ultimos_6_meses_flag,\n",
        "    CASE\n",
        "        WHEN Data BETWEEN DATE_ADD(MAX(Data) OVER (PARTITION BY `ID Cliente`), -365) AND MAX(Data) OVER (PARTITION BY `ID Cliente`) THEN 1\n",
        "        ELSE 0\n",
        "    END AS ultimos_12_meses_flag\n",
        "FROM df_transacoes\n",
        "ORDER BY `ID Cliente`;\n",
        "\"\"\")\n",
        "df_temp_01.createOrReplaceTempView(\"df_temp_01\")\n",
        "df_temp_01.count()"
      ],
      "metadata": {
        "colab": {
          "base_uri": "https://localhost:8080/"
        },
        "id": "B-G7Q1jWrGmc",
        "outputId": "3ff45870-1110-4c30-9eec-23067eccf907"
      },
      "execution_count": 55,
      "outputs": [
        {
          "output_type": "execute_result",
          "data": {
            "text/plain": [
              "10171"
            ]
          },
          "metadata": {},
          "execution_count": 55
        }
      ]
    },
    {
      "cell_type": "code",
      "source": [
        "df_temp_01.show(10,False)"
      ],
      "metadata": {
        "colab": {
          "base_uri": "https://localhost:8080/"
        },
        "id": "BEKd9ALsrke5",
        "outputId": "2a3f629f-9e2a-4375-aae5-b71d9bce2217"
      },
      "execution_count": 56,
      "outputs": [
        {
          "output_type": "stream",
          "name": "stdout",
          "text": [
            "+------------+----------+-----------------------------+------------------+-----------+--------------------+--------------------+---------------------+\n",
            "|ID Transação|ID Cliente|Data                         |Valor             |Categoria  |ultimos_3_meses_flag|ultimos_6_meses_flag|ultimos_12_meses_flag|\n",
            "+------------+----------+-----------------------------+------------------+-----------+--------------------+--------------------+---------------------+\n",
            "|10          |1         |2020-09-06 21:37:41.946902652|56.524638713138636|Alimentos  |0                   |0                   |0                    |\n",
            "|9           |1         |2022-11-02 12:50:58.407079648|193.00568791656067|Livros     |1                   |1                   |1                    |\n",
            "|4           |1         |2022-02-05 01:39:49.380530968|199.38694865538451|Roupas     |0                   |0                   |1                    |\n",
            "|8           |1         |2020-10-06 12:14:52.035398228|53.20607404593595 |Roupas     |0                   |0                   |0                    |\n",
            "|5           |1         |2022-11-16 23:06:54.159292032|160.00228343317622|Eletrônicos|1                   |1                   |1                    |\n",
            "|2           |1         |2020-01-19 12:27:36.637168141|97.07199340552512 |Alimentos  |0                   |0                   |0                    |\n",
            "|3           |1         |2021-12-28 12:33:58.938053096|169.10581012381087|Livros     |0                   |0                   |1                    |\n",
            "|6           |1         |2020-04-25 12:42:28.672566372|9.842481270765422 |Alimentos  |0                   |0                   |0                    |\n",
            "|7           |1         |2022-10-31 22:05:18.584070800|76.90706330227667 |Eletrônicos|1                   |1                   |1                    |\n",
            "|1           |1         |2022-11-25 13:50:26.548672560|57.287427536330505|Esportes   |1                   |1                   |1                    |\n",
            "+------------+----------+-----------------------------+------------------+-----------+--------------------+--------------------+---------------------+\n",
            "only showing top 10 rows\n",
            "\n"
          ]
        }
      ]
    },
    {
      "cell_type": "markdown",
      "source": [
        "#### Criando variáveis explicativas de primeira camada\n",
        "Apenas algumas variáveis foram criadas, a sugestão é criar muito mais:\n",
        "- use média, mínimo, soma, máximo\n",
        "- use os outros tipos de consumo\n"
      ],
      "metadata": {
        "id": "pn0bTv3crtc3"
      }
    },
    {
      "cell_type": "code",
      "source": [
        "df_temp_02 = spark.sql(\"\"\"\n",
        "select\n",
        "    `ID Cliente`,\n",
        "    round(sum(Valor),2) as VL_TOT_CONSUMO,\n",
        "    round(avg(Valor),2) as VL_MED_CONSUMO,\n",
        "    round(max(Valor),2) as VL_MAX_CONSUMO,\n",
        "    round(min(Valor),2) as VL_MIN_CONSUMO,\n",
        "    round(sum(case when Categoria = 'Esportes' then Valor else 0 end),2) as VL_TOT_CONS_ESPORTES,\n",
        "    round(avg(case when Categoria = 'Esportes' then Valor else NULL end),2) as VL_MED_CONS_ESPORTES,\n",
        "    round(avg(case when Categoria = 'Esportes' and ultimos_3_meses_flag = 1 then Valor else NULL end),2) as VL_MED_U3M_CONS_ESPORTES,\n",
        "    round(avg(case when Categoria = 'Esportes' and ultimos_6_meses_flag = 1 then Valor else NULL end),2) as VL_MED_U6M_CONS_ESPORTES,\n",
        "    round(avg(case when Categoria = 'Esportes' and ultimos_12_meses_flag = 1 then Valor else NULL end),2) as VL_MED_U12M_CONS_ESPORTES,\n",
        "    round(avg(case when Categoria = 'Alimentos' then Valor else NULL end),2) as VL_MED_CONS_Alimentos,\n",
        "    round(avg(case when Categoria = 'Alimentos' and ultimos_3_meses_flag = 1 then Valor else NULL end),2) as VL_MED_U3M_CONS_Alimentos,\n",
        "    round(avg(case when Categoria = 'Alimentos' and ultimos_6_meses_flag = 1 then Valor else NULL end),2) as VL_MED_U6M_CONS_Alimentos,\n",
        "    round(avg(case when Categoria = 'Alimentos' and ultimos_12_meses_flag = 1 then Valor else NULL end),2) as VL_MED_U12M_CONS_Alimentos\n",
        "from df_temp_01\n",
        "group by `ID Cliente`\n",
        "order by `ID Cliente`\n",
        "\"\"\")\n",
        "\n",
        "df_temp_02.createOrReplaceTempView(\"df_temp_02\")\n",
        "df_temp_02.count()"
      ],
      "metadata": {
        "colab": {
          "base_uri": "https://localhost:8080/"
        },
        "id": "1WxRch45rnr1",
        "outputId": "c43cec4a-c954-4ec0-c2f9-631decf9bda4"
      },
      "execution_count": 58,
      "outputs": [
        {
          "output_type": "execute_result",
          "data": {
            "text/plain": [
              "1000"
            ]
          },
          "metadata": {},
          "execution_count": 58
        }
      ]
    },
    {
      "cell_type": "code",
      "source": [
        "df_transacoes.show()"
      ],
      "metadata": {
        "colab": {
          "base_uri": "https://localhost:8080/"
        },
        "id": "oVAczyvH1tyV",
        "outputId": "05548327-9982-434b-d957-26c9aef738fe"
      },
      "execution_count": 59,
      "outputs": [
        {
          "output_type": "stream",
          "name": "stdout",
          "text": [
            "+------------+----------+--------------------+------------------+-----------+\n",
            "|ID Transação|ID Cliente|                Data|             Valor|  Categoria|\n",
            "+------------+----------+--------------------+------------------+-----------+\n",
            "|           1|         1|2022-11-25 13:50:...|57.287427536330505|   Esportes|\n",
            "|           2|         1|2020-01-19 12:27:...| 97.07199340552512|  Alimentos|\n",
            "|           3|         1|2021-12-28 12:33:...|169.10581012381087|     Livros|\n",
            "|           4|         1|2022-02-05 01:39:...|199.38694865538451|     Roupas|\n",
            "|           5|         1|2022-11-16 23:06:...|160.00228343317622|Eletrônicos|\n",
            "|           6|         1|2020-04-25 12:42:...| 9.842481270765422|  Alimentos|\n",
            "|           7|         1|2022-10-31 22:05:...| 76.90706330227667|Eletrônicos|\n",
            "|           8|         1|2020-10-06 12:14:...| 53.20607404593595|     Roupas|\n",
            "|           9|         1|2022-11-02 12:50:...|193.00568791656067|     Livros|\n",
            "|          10|         1|2020-09-06 21:37:...|56.524638713138636|  Alimentos|\n",
            "|          11|         1|2022-01-01 22:30:...| 188.9532871161914|     Livros|\n",
            "|          12|         1|2022-08-10 13:16:...|187.81591513287063|  Alimentos|\n",
            "|          13|         1|2022-12-18 22:35:...|168.68501102043555|     Roupas|\n",
            "|          14|         1|2022-11-17 12:02:...|24.123994506156937|     Roupas|\n",
            "|          15|         1|2022-08-04 07:23:...| 5.389069461264487|     Roupas|\n",
            "|          16|         1|2022-06-07 22:05:...|159.80720142167414|Eletrônicos|\n",
            "|          17|         1|2020-10-06 07:04:...|169.44331623029686|   Esportes|\n",
            "|          18|         2|2020-02-03 21:58:...|192.62543018016476|     Livros|\n",
            "|          19|         2|2021-12-07 02:20:...|47.584609233291935|  Alimentos|\n",
            "|          20|         2|2020-05-04 21:31:...|147.96356124522856|     Livros|\n",
            "+------------+----------+--------------------+------------------+-----------+\n",
            "only showing top 20 rows\n",
            "\n"
          ]
        }
      ]
    },
    {
      "cell_type": "code",
      "source": [
        "df_temp_02.show()"
      ],
      "metadata": {
        "colab": {
          "base_uri": "https://localhost:8080/"
        },
        "id": "bf6DoVtEsoFP",
        "outputId": "cbbe4f90-d57f-4896-a01b-26985cca4315"
      },
      "execution_count": 60,
      "outputs": [
        {
          "output_type": "stream",
          "name": "stdout",
          "text": [
            "+----------+--------------+--------------+--------------+--------------+--------------------+--------------------+------------------------+------------------------+-------------------------+---------------------+-------------------------+-------------------------+--------------------------+\n",
            "|ID Cliente|VL_TOT_CONSUMO|VL_MED_CONSUMO|VL_MAX_CONSUMO|VL_MIN_CONSUMO|VL_TOT_CONS_ESPORTES|VL_MED_CONS_ESPORTES|VL_MED_U3M_CONS_ESPORTES|VL_MED_U6M_CONS_ESPORTES|VL_MED_U12M_CONS_ESPORTES|VL_MED_CONS_Alimentos|VL_MED_U3M_CONS_Alimentos|VL_MED_U6M_CONS_Alimentos|VL_MED_U12M_CONS_Alimentos|\n",
            "+----------+--------------+--------------+--------------+--------------+--------------------+--------------------+------------------------+------------------------+-------------------------+---------------------+-------------------------+-------------------------+--------------------------+\n",
            "|         1|       1976.56|        116.27|        199.39|          5.39|              226.73|              113.37|                   57.29|                   57.29|                    57.29|                87.81|                     null|                   187.82|                    187.82|\n",
            "|         2|        1017.8|        101.78|        192.63|         47.58|              275.47|               91.82|                   57.35|                   57.35|                    84.62|                54.79|                    47.58|                    54.79|                     54.79|\n",
            "|         3|        997.81|        110.87|        191.09|         41.91|              327.09|              163.55|                  164.27|                  164.27|                   164.27|               123.76|                     null|                     null|                      null|\n",
            "|         4|       1009.77|        126.22|        199.35|         41.01|              199.35|              199.35|                    null|                    null|                     null|               103.19|                   103.19|                   103.19|                    103.19|\n",
            "|         5|       1755.18|        117.01|        170.78|         16.25|              436.01|               109.0|                    null|                    null|                   148.03|               146.19|                     null|                     null|                      null|\n",
            "|         6|       1841.53|        141.66|        199.29|           8.9|              395.05|              131.68|                  127.34|                  127.34|                   127.34|               186.71|                     null|                     null|                      null|\n",
            "|         7|       1671.35|         98.31|        180.02|         21.47|               137.2|                68.6|                    97.0|                    68.6|                     68.6|                90.15|                     null|                    51.54|                     51.54|\n",
            "|         8|        841.03|         93.45|        164.54|         22.74|              150.17|              150.17|                    null|                    null|                   150.17|                56.97|                     null|                     null|                     56.97|\n",
            "|         9|       1019.13|         92.65|        196.06|         14.62|              286.48|               95.49|                    null|                    null|                     null|                43.11|                    51.77|                    51.77|                     43.64|\n",
            "|        10|        416.41|         104.1|        185.66|         15.92|                 0.0|                null|                    null|                    null|                     null|               185.66|                     null|                     null|                    185.66|\n",
            "|        11|        903.13|        129.02|        197.28|         29.06|               29.06|               29.06|                    null|                    null|                    29.06|               192.16|                   197.28|                   197.28|                    197.28|\n",
            "|        12|        390.06|        130.02|        181.71|         39.81|                 0.0|                null|                    null|                    null|                     null|                39.81|                     null|                    39.81|                     39.81|\n",
            "|        13|        772.55|         77.25|        149.91|         27.54|               55.81|               55.81|                   55.81|                   55.81|                    55.81|                 49.9|                    58.54|                    58.54|                     43.04|\n",
            "|        14|        192.68|         64.23|        127.28|         13.86|                 0.0|                null|                    null|                    null|                     null|                 null|                     null|                     null|                      null|\n",
            "|        15|        158.84|        158.84|        158.84|        158.84|                 0.0|                null|                    null|                    null|                     null|                 null|                     null|                     null|                      null|\n",
            "|        16|       1482.98|        105.93|        183.63|         19.98|              372.95|               93.24|                  183.63|                  183.63|                   183.63|                46.54|                     null|                     null|                      null|\n",
            "|        17|       1005.44|         77.34|        197.48|         10.01|              318.53|              106.18|                   47.32|                   47.32|                    47.32|                56.55|                     null|                     null|                     56.55|\n",
            "|        18|        284.77|         56.95|        138.08|         10.88|                 0.0|                null|                    null|                    null|                     null|                38.84|                     null|                     null|                      null|\n",
            "|        19|        790.42|          98.8|         194.6|         25.56|              220.42|               73.47|                   57.63|                   57.63|                    57.63|                 null|                     null|                     null|                      null|\n",
            "|        20|        979.35|         81.61|        172.52|          5.49|              476.36|              119.09|                  155.72|                  155.72|                   142.29|               136.75|                     null|                   172.52|                    136.75|\n",
            "+----------+--------------+--------------+--------------+--------------+--------------------+--------------------+------------------------+------------------------+-------------------------+---------------------+-------------------------+-------------------------+--------------------------+\n",
            "only showing top 20 rows\n",
            "\n"
          ]
        }
      ]
    },
    {
      "cell_type": "markdown",
      "source": [
        "#### Criando variáveis explicativas de segunda camada\n",
        "- Razão entre variáveis históricas"
      ],
      "metadata": {
        "id": "-6PYaMCIvW_g"
      }
    },
    {
      "cell_type": "code",
      "source": [
        "df_temp_03 = spark.sql(\"\"\"\n",
        "Select\n",
        "*,\n",
        "round(VL_MED_U3M_CONS_ESPORTES/VL_MED_U6M_CONS_ESPORTES,2) as VL_RAZ_MED_U3M_U6M_CONS_ESP,\n",
        "round(VL_MED_U6M_CONS_ESPORTES/VL_MED_U12M_CONS_ESPORTES,2) as VL_RAZ_MED_U6M_U12M_CONS_ESP,\n",
        "round(VL_MED_U3M_CONS_Alimentos/VL_MED_U6M_CONS_Alimentos,2) as VL_RAZ_MED_U3M_U6M_CONS_ALI,\n",
        "round(VL_MED_U6M_CONS_Alimentos/VL_MED_U12M_CONS_Alimentos,2) as VL_RAZ_MED_U6M_U12M_CONS_ALI\n",
        "from df_temp_02\n",
        "\n",
        "\"\"\")\n",
        "\n",
        "df_temp_03.createOrReplaceTempView(\"df_temp_03\")\n",
        "df_temp_03.count()"
      ],
      "metadata": {
        "colab": {
          "base_uri": "https://localhost:8080/"
        },
        "id": "b9KSPIzIvdjj",
        "outputId": "c1429857-e603-4684-94fb-6f96ff6e5029"
      },
      "execution_count": 61,
      "outputs": [
        {
          "output_type": "execute_result",
          "data": {
            "text/plain": [
              "1000"
            ]
          },
          "metadata": {},
          "execution_count": 61
        }
      ]
    },
    {
      "cell_type": "code",
      "source": [
        "df_temp_03.show()"
      ],
      "metadata": {
        "colab": {
          "base_uri": "https://localhost:8080/"
        },
        "id": "1HEicx6IwORA",
        "outputId": "c0c00e2b-9a60-4762-89ca-0032e6544a73"
      },
      "execution_count": 62,
      "outputs": [
        {
          "output_type": "stream",
          "name": "stdout",
          "text": [
            "+----------+--------------+--------------+--------------+--------------+--------------------+--------------------+------------------------+------------------------+-------------------------+---------------------+-------------------------+-------------------------+--------------------------+---------------------------+----------------------------+---------------------------+----------------------------+\n",
            "|ID Cliente|VL_TOT_CONSUMO|VL_MED_CONSUMO|VL_MAX_CONSUMO|VL_MIN_CONSUMO|VL_TOT_CONS_ESPORTES|VL_MED_CONS_ESPORTES|VL_MED_U3M_CONS_ESPORTES|VL_MED_U6M_CONS_ESPORTES|VL_MED_U12M_CONS_ESPORTES|VL_MED_CONS_Alimentos|VL_MED_U3M_CONS_Alimentos|VL_MED_U6M_CONS_Alimentos|VL_MED_U12M_CONS_Alimentos|VL_RAZ_MED_U3M_U6M_CONS_ESP|VL_RAZ_MED_U6M_U12M_CONS_ESP|VL_RAZ_MED_U3M_U6M_CONS_ALI|VL_RAZ_MED_U6M_U12M_CONS_ALI|\n",
            "+----------+--------------+--------------+--------------+--------------+--------------------+--------------------+------------------------+------------------------+-------------------------+---------------------+-------------------------+-------------------------+--------------------------+---------------------------+----------------------------+---------------------------+----------------------------+\n",
            "|         1|       1976.56|        116.27|        199.39|          5.39|              226.73|              113.37|                   57.29|                   57.29|                    57.29|                87.81|                     null|                   187.82|                    187.82|                        1.0|                         1.0|                       null|                         1.0|\n",
            "|         2|        1017.8|        101.78|        192.63|         47.58|              275.47|               91.82|                   57.35|                   57.35|                    84.62|                54.79|                    47.58|                    54.79|                     54.79|                        1.0|                        0.68|                       0.87|                         1.0|\n",
            "|         3|        997.81|        110.87|        191.09|         41.91|              327.09|              163.55|                  164.27|                  164.27|                   164.27|               123.76|                     null|                     null|                      null|                        1.0|                         1.0|                       null|                        null|\n",
            "|         4|       1009.77|        126.22|        199.35|         41.01|              199.35|              199.35|                    null|                    null|                     null|               103.19|                   103.19|                   103.19|                    103.19|                       null|                        null|                        1.0|                         1.0|\n",
            "|         5|       1755.18|        117.01|        170.78|         16.25|              436.01|               109.0|                    null|                    null|                   148.03|               146.19|                     null|                     null|                      null|                       null|                        null|                       null|                        null|\n",
            "|         6|       1841.53|        141.66|        199.29|           8.9|              395.05|              131.68|                  127.34|                  127.34|                   127.34|               186.71|                     null|                     null|                      null|                        1.0|                         1.0|                       null|                        null|\n",
            "|         7|       1671.35|         98.31|        180.02|         21.47|               137.2|                68.6|                    97.0|                    68.6|                     68.6|                90.15|                     null|                    51.54|                     51.54|                       1.41|                         1.0|                       null|                         1.0|\n",
            "|         8|        841.03|         93.45|        164.54|         22.74|              150.17|              150.17|                    null|                    null|                   150.17|                56.97|                     null|                     null|                     56.97|                       null|                        null|                       null|                        null|\n",
            "|         9|       1019.13|         92.65|        196.06|         14.62|              286.48|               95.49|                    null|                    null|                     null|                43.11|                    51.77|                    51.77|                     43.64|                       null|                        null|                        1.0|                        1.19|\n",
            "|        10|        416.41|         104.1|        185.66|         15.92|                 0.0|                null|                    null|                    null|                     null|               185.66|                     null|                     null|                    185.66|                       null|                        null|                       null|                        null|\n",
            "|        11|        903.13|        129.02|        197.28|         29.06|               29.06|               29.06|                    null|                    null|                    29.06|               192.16|                   197.28|                   197.28|                    197.28|                       null|                        null|                        1.0|                         1.0|\n",
            "|        12|        390.06|        130.02|        181.71|         39.81|                 0.0|                null|                    null|                    null|                     null|                39.81|                     null|                    39.81|                     39.81|                       null|                        null|                       null|                         1.0|\n",
            "|        13|        772.55|         77.25|        149.91|         27.54|               55.81|               55.81|                   55.81|                   55.81|                    55.81|                 49.9|                    58.54|                    58.54|                     43.04|                        1.0|                         1.0|                        1.0|                        1.36|\n",
            "|        14|        192.68|         64.23|        127.28|         13.86|                 0.0|                null|                    null|                    null|                     null|                 null|                     null|                     null|                      null|                       null|                        null|                       null|                        null|\n",
            "|        15|        158.84|        158.84|        158.84|        158.84|                 0.0|                null|                    null|                    null|                     null|                 null|                     null|                     null|                      null|                       null|                        null|                       null|                        null|\n",
            "|        16|       1482.98|        105.93|        183.63|         19.98|              372.95|               93.24|                  183.63|                  183.63|                   183.63|                46.54|                     null|                     null|                      null|                        1.0|                         1.0|                       null|                        null|\n",
            "|        17|       1005.44|         77.34|        197.48|         10.01|              318.53|              106.18|                   47.32|                   47.32|                    47.32|                56.55|                     null|                     null|                     56.55|                        1.0|                         1.0|                       null|                        null|\n",
            "|        18|        284.77|         56.95|        138.08|         10.88|                 0.0|                null|                    null|                    null|                     null|                38.84|                     null|                     null|                      null|                       null|                        null|                       null|                        null|\n",
            "|        19|        790.42|          98.8|         194.6|         25.56|              220.42|               73.47|                   57.63|                   57.63|                    57.63|                 null|                     null|                     null|                      null|                        1.0|                         1.0|                       null|                        null|\n",
            "|        20|        979.35|         81.61|        172.52|          5.49|              476.36|              119.09|                  155.72|                  155.72|                   142.29|               136.75|                     null|                   172.52|                    136.75|                        1.0|                        1.09|                       null|                        1.26|\n",
            "+----------+--------------+--------------+--------------+--------------+--------------------+--------------------+------------------------+------------------------+-------------------------+---------------------+-------------------------+-------------------------+--------------------------+---------------------------+----------------------------+---------------------------+----------------------------+\n",
            "only showing top 20 rows\n",
            "\n"
          ]
        }
      ]
    },
    {
      "cell_type": "code",
      "source": [
        "df_publico.printSchema()"
      ],
      "metadata": {
        "colab": {
          "base_uri": "https://localhost:8080/"
        },
        "id": "qapIV8L0whZ5",
        "outputId": "b1a0087e-9a47-4bb2-fdfb-90d87ddef343"
      },
      "execution_count": 63,
      "outputs": [
        {
          "output_type": "stream",
          "name": "stdout",
          "text": [
            "root\n",
            " |-- ID: integer (nullable = true)\n",
            " |-- Idade: integer (nullable = true)\n",
            " |-- Gênero: string (nullable = true)\n",
            " |-- Dias desde a Inscrição: integer (nullable = true)\n",
            " |-- Usou Suporte: integer (nullable = true)\n",
            " |-- Plano: string (nullable = true)\n",
            " |-- Churn: integer (nullable = true)\n",
            "\n"
          ]
        }
      ]
    },
    {
      "cell_type": "markdown",
      "source": [
        "##### Trazer as variáveis explicativas para a base de público"
      ],
      "metadata": {
        "id": "v28JXTtPtf4u"
      }
    },
    {
      "cell_type": "code",
      "source": [
        "abt_temp_01 = spark.sql(\"\"\"\n",
        "    Select\n",
        "        pub.*,\n",
        "        b.*,\n",
        "        date_format(CURRENT_DATE, 'yyyyMM') as PK_DATREF,\n",
        "        CURRENT_DATE as PK_DAT_PROC\n",
        "    from\n",
        "        df_publico as pub\n",
        "    left join\n",
        "        df_temp_03 as b\n",
        "    on\n",
        "        pub.ID = b.`ID Cliente`\n",
        "\n",
        "\"\"\")\n",
        "\n",
        "abt_temp_01.count()"
      ],
      "metadata": {
        "colab": {
          "base_uri": "https://localhost:8080/"
        },
        "id": "Pn2Nq0Zas2Jt",
        "outputId": "8584f4ff-93ad-4112-fc4d-b1063aa5926e"
      },
      "execution_count": 64,
      "outputs": [
        {
          "output_type": "execute_result",
          "data": {
            "text/plain": [
              "1000"
            ]
          },
          "metadata": {},
          "execution_count": 64
        }
      ]
    },
    {
      "cell_type": "code",
      "source": [
        "abt_temp_01.show()"
      ],
      "metadata": {
        "colab": {
          "base_uri": "https://localhost:8080/"
        },
        "id": "Unh9mWQpxXL2",
        "outputId": "662d91ac-0752-4841-c936-ba8a2bcaa14f"
      },
      "execution_count": 65,
      "outputs": [
        {
          "output_type": "stream",
          "name": "stdout",
          "text": [
            "+---+-----+------+----------------------+------------+-------------+-----+----------+--------------+--------------+--------------+--------------+--------------------+--------------------+------------------------+------------------------+-------------------------+---------------------+-------------------------+-------------------------+--------------------------+---------------------------+----------------------------+---------------------------+----------------------------+---------+-----------+\n",
            "| ID|Idade|Gênero|Dias desde a Inscrição|Usou Suporte|        Plano|Churn|ID Cliente|VL_TOT_CONSUMO|VL_MED_CONSUMO|VL_MAX_CONSUMO|VL_MIN_CONSUMO|VL_TOT_CONS_ESPORTES|VL_MED_CONS_ESPORTES|VL_MED_U3M_CONS_ESPORTES|VL_MED_U6M_CONS_ESPORTES|VL_MED_U12M_CONS_ESPORTES|VL_MED_CONS_Alimentos|VL_MED_U3M_CONS_Alimentos|VL_MED_U6M_CONS_Alimentos|VL_MED_U12M_CONS_Alimentos|VL_RAZ_MED_U3M_U6M_CONS_ESP|VL_RAZ_MED_U6M_U12M_CONS_ESP|VL_RAZ_MED_U3M_U6M_CONS_ALI|VL_RAZ_MED_U6M_U12M_CONS_ALI|PK_DATREF|PK_DAT_PROC|\n",
            "+---+-----+------+----------------------+------------+-------------+-----+----------+--------------+--------------+--------------+--------------+--------------------+--------------------+------------------------+------------------------+-------------------------+---------------------+-------------------------+-------------------------+--------------------------+---------------------------+----------------------------+---------------------------+----------------------------+---------+-----------+\n",
            "|  1|   21|     F|                  1331|           1|Intermediário|    1|         1|       1976.56|        116.27|        199.39|          5.39|              226.73|              113.37|                   57.29|                   57.29|                    57.29|                87.81|                     null|                   187.82|                    187.82|                        1.0|                         1.0|                       null|                         1.0|   202309| 2023-09-13|\n",
            "|  2|   21|     M|                  1160|           0|Intermediário|    0|         2|        1017.8|        101.78|        192.63|         47.58|              275.47|               91.82|                   57.35|                   57.35|                    84.62|                54.79|                    47.58|                    54.79|                     54.79|                        1.0|                        0.68|                       0.87|                         1.0|   202309| 2023-09-13|\n",
            "|  3|   62|     M|                   454|           1|       Básico|    0|         3|        997.81|        110.87|        191.09|         41.91|              327.09|              163.55|                  164.27|                  164.27|                   164.27|               123.76|                     null|                     null|                      null|                        1.0|                         1.0|                       null|                        null|   202309| 2023-09-13|\n",
            "|  4|   64|     M|                   226|           1|Intermediário|    0|         4|       1009.77|        126.22|        199.35|         41.01|              199.35|              199.35|                    null|                    null|                     null|               103.19|                   103.19|                   103.19|                    103.19|                       null|                        null|                        1.0|                         1.0|   202309| 2023-09-13|\n",
            "|  5|   61|     M|                   474|           1|     Avançado|    0|         5|       1755.18|        117.01|        170.78|         16.25|              436.01|               109.0|                    null|                    null|                   148.03|               146.19|                     null|                     null|                      null|                       null|                        null|                       null|                        null|   202309| 2023-09-13|\n",
            "|  6|   18|     M|                   419|           0|       Básico|    0|         6|       1841.53|        141.66|        199.29|           8.9|              395.05|              131.68|                  127.34|                  127.34|                   127.34|               186.71|                     null|                     null|                      null|                        1.0|                         1.0|                       null|                        null|   202309| 2023-09-13|\n",
            "|  7|   52|     M|                  1334|           0|       Básico|    0|         7|       1671.35|         98.31|        180.02|         21.47|               137.2|                68.6|                    97.0|                    68.6|                     68.6|                90.15|                     null|                    51.54|                     51.54|                       1.41|                         1.0|                       null|                         1.0|   202309| 2023-09-13|\n",
            "|  8|   44|     M|                  1124|           1|Intermediário|    0|         8|        841.03|         93.45|        164.54|         22.74|              150.17|              150.17|                    null|                    null|                   150.17|                56.97|                     null|                     null|                     56.97|                       null|                        null|                       null|                        null|   202309| 2023-09-13|\n",
            "|  9|   52|     M|                  1256|           1|Intermediário|    0|         9|       1019.13|         92.65|        196.06|         14.62|              286.48|               95.49|                    null|                    null|                     null|                43.11|                    51.77|                    51.77|                     43.64|                       null|                        null|                        1.0|                        1.19|   202309| 2023-09-13|\n",
            "| 10|   64|     F|                  1197|           0|       Básico|    0|        10|        416.41|         104.1|        185.66|         15.92|                 0.0|                null|                    null|                    null|                     null|               185.66|                     null|                     null|                    185.66|                       null|                        null|                       null|                        null|   202309| 2023-09-13|\n",
            "| 11|   50|     F|                  1820|           1|Intermediário|    0|        11|        903.13|        129.02|        197.28|         29.06|               29.06|               29.06|                    null|                    null|                    29.06|               192.16|                   197.28|                   197.28|                    197.28|                       null|                        null|                        1.0|                         1.0|   202309| 2023-09-13|\n",
            "| 12|   46|     F|                   550|           0|     Avançado|    0|        12|        390.06|        130.02|        181.71|         39.81|                 0.0|                null|                    null|                    null|                     null|                39.81|                     null|                    39.81|                     39.81|                       null|                        null|                       null|                         1.0|   202309| 2023-09-13|\n",
            "| 13|   65|     M|                  1466|           0|     Avançado|    0|        13|        772.55|         77.25|        149.91|         27.54|               55.81|               55.81|                   55.81|                   55.81|                    55.81|                 49.9|                    58.54|                    58.54|                     43.04|                        1.0|                         1.0|                        1.0|                        1.36|   202309| 2023-09-13|\n",
            "| 14|   33|     M|                  1507|           0|     Avançado|    0|        14|        192.68|         64.23|        127.28|         13.86|                 0.0|                null|                    null|                    null|                     null|                 null|                     null|                     null|                      null|                       null|                        null|                       null|                        null|   202309| 2023-09-13|\n",
            "| 15|   19|     F|                  1292|           1|     Avançado|    1|        15|        158.84|        158.84|        158.84|        158.84|                 0.0|                null|                    null|                    null|                     null|                 null|                     null|                     null|                      null|                       null|                        null|                       null|                        null|   202309| 2023-09-13|\n",
            "| 16|   22|     F|                  1514|           0|       Básico|    1|        16|       1482.98|        105.93|        183.63|         19.98|              372.95|               93.24|                  183.63|                  183.63|                   183.63|                46.54|                     null|                     null|                      null|                        1.0|                         1.0|                       null|                        null|   202309| 2023-09-13|\n",
            "| 17|   38|     F|                  1483|           0|Intermediário|    1|        17|       1005.44|         77.34|        197.48|         10.01|              318.53|              106.18|                   47.32|                   47.32|                    47.32|                56.55|                     null|                     null|                     56.55|                        1.0|                         1.0|                       null|                        null|   202309| 2023-09-13|\n",
            "| 18|   44|     F|                    32|           0|Intermediário|    0|        18|        284.77|         56.95|        138.08|         10.88|                 0.0|                null|                    null|                    null|                     null|                38.84|                     null|                     null|                      null|                       null|                        null|                       null|                        null|   202309| 2023-09-13|\n",
            "| 19|   68|     F|                  1203|           1|     Avançado|    1|        19|        790.42|          98.8|         194.6|         25.56|              220.42|               73.47|                   57.63|                   57.63|                    57.63|                 null|                     null|                     null|                      null|                        1.0|                         1.0|                       null|                        null|   202309| 2023-09-13|\n",
            "| 20|   35|     F|                  1157|           1|     Avançado|    1|        20|        979.35|         81.61|        172.52|          5.49|              476.36|              119.09|                  155.72|                  155.72|                   142.29|               136.75|                     null|                   172.52|                    136.75|                        1.0|                        1.09|                       null|                        1.26|   202309| 2023-09-13|\n",
            "+---+-----+------+----------------------+------------+-------------+-----+----------+--------------+--------------+--------------+--------------+--------------------+--------------------+------------------------+------------------------+-------------------------+---------------------+-------------------------+-------------------------+--------------------------+---------------------------+----------------------------+---------------------------+----------------------------+---------+-----------+\n",
            "only showing top 20 rows\n",
            "\n"
          ]
        }
      ]
    },
    {
      "cell_type": "markdown",
      "source": [
        "#### Renomeando campos com nomes fora do padrão\n",
        "- retirar espaços\n",
        "- retirar caracteres especiais\n",
        "- retirar qualquer coisa \"estranha\"\n",
        "- padronizar os nomes das features para que fiquem intuitivos"
      ],
      "metadata": {
        "id": "gM49mnmmyoiA"
      }
    },
    {
      "cell_type": "code",
      "source": [
        "# Dicionário de renomeação\n",
        "rename_dict = {\n",
        "    \"Gênero\": \"NM_GENERO\",\n",
        "    \"Dias desde a Inscrição\": \"QT_DIAS_DESDE_INSCR\",\n",
        "    \"Usou Suporte\": \"FL_USOU_SUPORTE\",\n",
        "    \"ID Cliente\": \"ID_CLIENTE\",\n",
        "}\n",
        "\n",
        "# Aplicando renomeações\n",
        "for old_name, new_name in rename_dict.items():\n",
        "    abt_temp_01 = abt_temp_01.withColumnRenamed(old_name, new_name)"
      ],
      "metadata": {
        "id": "Lw2ejAPayn1Z"
      },
      "execution_count": 71,
      "outputs": []
    },
    {
      "cell_type": "code",
      "source": [
        "abt_temp_01.show()"
      ],
      "metadata": {
        "colab": {
          "base_uri": "https://localhost:8080/"
        },
        "id": "VrJQyFpgyOAd",
        "outputId": "12bd61dc-b5ab-4254-e8c1-1d1224f10df0"
      },
      "execution_count": 72,
      "outputs": [
        {
          "output_type": "stream",
          "name": "stdout",
          "text": [
            "+---+-----+---------+-------------------+---------------+-------------+-----+----------+--------------+--------------+--------------+--------------+--------------------+--------------------+------------------------+------------------------+-------------------------+---------------------+-------------------------+-------------------------+--------------------------+---------------------------+----------------------------+---------------------------+----------------------------+---------+-----------+\n",
            "| ID|Idade|NM_GENERO|QT_DIAS_DESDE_INSCR|FL_USOU_SUPORTE|        Plano|Churn|ID_CLIENTE|VL_TOT_CONSUMO|VL_MED_CONSUMO|VL_MAX_CONSUMO|VL_MIN_CONSUMO|VL_TOT_CONS_ESPORTES|VL_MED_CONS_ESPORTES|VL_MED_U3M_CONS_ESPORTES|VL_MED_U6M_CONS_ESPORTES|VL_MED_U12M_CONS_ESPORTES|VL_MED_CONS_Alimentos|VL_MED_U3M_CONS_Alimentos|VL_MED_U6M_CONS_Alimentos|VL_MED_U12M_CONS_Alimentos|VL_RAZ_MED_U3M_U6M_CONS_ESP|VL_RAZ_MED_U6M_U12M_CONS_ESP|VL_RAZ_MED_U3M_U6M_CONS_ALI|VL_RAZ_MED_U6M_U12M_CONS_ALI|PK_DATREF|PK_DAT_PROC|\n",
            "+---+-----+---------+-------------------+---------------+-------------+-----+----------+--------------+--------------+--------------+--------------+--------------------+--------------------+------------------------+------------------------+-------------------------+---------------------+-------------------------+-------------------------+--------------------------+---------------------------+----------------------------+---------------------------+----------------------------+---------+-----------+\n",
            "|  1|   21|        F|               1331|              1|Intermediário|    1|         1|       1976.56|        116.27|        199.39|          5.39|              226.73|              113.37|                   57.29|                   57.29|                    57.29|                87.81|                     null|                   187.82|                    187.82|                        1.0|                         1.0|                       null|                         1.0|   202309| 2023-09-13|\n",
            "|  2|   21|        M|               1160|              0|Intermediário|    0|         2|        1017.8|        101.78|        192.63|         47.58|              275.47|               91.82|                   57.35|                   57.35|                    84.62|                54.79|                    47.58|                    54.79|                     54.79|                        1.0|                        0.68|                       0.87|                         1.0|   202309| 2023-09-13|\n",
            "|  3|   62|        M|                454|              1|       Básico|    0|         3|        997.81|        110.87|        191.09|         41.91|              327.09|              163.55|                  164.27|                  164.27|                   164.27|               123.76|                     null|                     null|                      null|                        1.0|                         1.0|                       null|                        null|   202309| 2023-09-13|\n",
            "|  4|   64|        M|                226|              1|Intermediário|    0|         4|       1009.77|        126.22|        199.35|         41.01|              199.35|              199.35|                    null|                    null|                     null|               103.19|                   103.19|                   103.19|                    103.19|                       null|                        null|                        1.0|                         1.0|   202309| 2023-09-13|\n",
            "|  5|   61|        M|                474|              1|     Avançado|    0|         5|       1755.18|        117.01|        170.78|         16.25|              436.01|               109.0|                    null|                    null|                   148.03|               146.19|                     null|                     null|                      null|                       null|                        null|                       null|                        null|   202309| 2023-09-13|\n",
            "|  6|   18|        M|                419|              0|       Básico|    0|         6|       1841.53|        141.66|        199.29|           8.9|              395.05|              131.68|                  127.34|                  127.34|                   127.34|               186.71|                     null|                     null|                      null|                        1.0|                         1.0|                       null|                        null|   202309| 2023-09-13|\n",
            "|  7|   52|        M|               1334|              0|       Básico|    0|         7|       1671.35|         98.31|        180.02|         21.47|               137.2|                68.6|                    97.0|                    68.6|                     68.6|                90.15|                     null|                    51.54|                     51.54|                       1.41|                         1.0|                       null|                         1.0|   202309| 2023-09-13|\n",
            "|  8|   44|        M|               1124|              1|Intermediário|    0|         8|        841.03|         93.45|        164.54|         22.74|              150.17|              150.17|                    null|                    null|                   150.17|                56.97|                     null|                     null|                     56.97|                       null|                        null|                       null|                        null|   202309| 2023-09-13|\n",
            "|  9|   52|        M|               1256|              1|Intermediário|    0|         9|       1019.13|         92.65|        196.06|         14.62|              286.48|               95.49|                    null|                    null|                     null|                43.11|                    51.77|                    51.77|                     43.64|                       null|                        null|                        1.0|                        1.19|   202309| 2023-09-13|\n",
            "| 10|   64|        F|               1197|              0|       Básico|    0|        10|        416.41|         104.1|        185.66|         15.92|                 0.0|                null|                    null|                    null|                     null|               185.66|                     null|                     null|                    185.66|                       null|                        null|                       null|                        null|   202309| 2023-09-13|\n",
            "| 11|   50|        F|               1820|              1|Intermediário|    0|        11|        903.13|        129.02|        197.28|         29.06|               29.06|               29.06|                    null|                    null|                    29.06|               192.16|                   197.28|                   197.28|                    197.28|                       null|                        null|                        1.0|                         1.0|   202309| 2023-09-13|\n",
            "| 12|   46|        F|                550|              0|     Avançado|    0|        12|        390.06|        130.02|        181.71|         39.81|                 0.0|                null|                    null|                    null|                     null|                39.81|                     null|                    39.81|                     39.81|                       null|                        null|                       null|                         1.0|   202309| 2023-09-13|\n",
            "| 13|   65|        M|               1466|              0|     Avançado|    0|        13|        772.55|         77.25|        149.91|         27.54|               55.81|               55.81|                   55.81|                   55.81|                    55.81|                 49.9|                    58.54|                    58.54|                     43.04|                        1.0|                         1.0|                        1.0|                        1.36|   202309| 2023-09-13|\n",
            "| 14|   33|        M|               1507|              0|     Avançado|    0|        14|        192.68|         64.23|        127.28|         13.86|                 0.0|                null|                    null|                    null|                     null|                 null|                     null|                     null|                      null|                       null|                        null|                       null|                        null|   202309| 2023-09-13|\n",
            "| 15|   19|        F|               1292|              1|     Avançado|    1|        15|        158.84|        158.84|        158.84|        158.84|                 0.0|                null|                    null|                    null|                     null|                 null|                     null|                     null|                      null|                       null|                        null|                       null|                        null|   202309| 2023-09-13|\n",
            "| 16|   22|        F|               1514|              0|       Básico|    1|        16|       1482.98|        105.93|        183.63|         19.98|              372.95|               93.24|                  183.63|                  183.63|                   183.63|                46.54|                     null|                     null|                      null|                        1.0|                         1.0|                       null|                        null|   202309| 2023-09-13|\n",
            "| 17|   38|        F|               1483|              0|Intermediário|    1|        17|       1005.44|         77.34|        197.48|         10.01|              318.53|              106.18|                   47.32|                   47.32|                    47.32|                56.55|                     null|                     null|                     56.55|                        1.0|                         1.0|                       null|                        null|   202309| 2023-09-13|\n",
            "| 18|   44|        F|                 32|              0|Intermediário|    0|        18|        284.77|         56.95|        138.08|         10.88|                 0.0|                null|                    null|                    null|                     null|                38.84|                     null|                     null|                      null|                       null|                        null|                       null|                        null|   202309| 2023-09-13|\n",
            "| 19|   68|        F|               1203|              1|     Avançado|    1|        19|        790.42|          98.8|         194.6|         25.56|              220.42|               73.47|                   57.63|                   57.63|                    57.63|                 null|                     null|                     null|                      null|                        1.0|                         1.0|                       null|                        null|   202309| 2023-09-13|\n",
            "| 20|   35|        F|               1157|              1|     Avançado|    1|        20|        979.35|         81.61|        172.52|          5.49|              476.36|              119.09|                  155.72|                  155.72|                   142.29|               136.75|                     null|                   172.52|                    136.75|                        1.0|                        1.09|                       null|                        1.26|   202309| 2023-09-13|\n",
            "+---+-----+---------+-------------------+---------------+-------------+-----+----------+--------------+--------------+--------------+--------------+--------------------+--------------------+------------------------+------------------------+-------------------------+---------------------+-------------------------+-------------------------+--------------------------+---------------------------+----------------------------+---------------------------+----------------------------+---------+-----------+\n",
            "only showing top 20 rows\n",
            "\n"
          ]
        }
      ]
    },
    {
      "cell_type": "markdown",
      "source": [
        "#### Dropar a coluna ID porque ela já esta sendo representada por ID_CLIENTE"
      ],
      "metadata": {
        "id": "yBqGWLkkz_Bx"
      }
    },
    {
      "cell_type": "code",
      "source": [
        "# Descartando as colunas \"idade\" e \"cidade\"\n",
        "abt = abt_temp_01.drop(\"ID\")\n",
        "abt.count()"
      ],
      "metadata": {
        "colab": {
          "base_uri": "https://localhost:8080/"
        },
        "id": "sOj7X8xtz6Go",
        "outputId": "ed35fcfa-22eb-42ef-fb6a-5f9a2eabb8f6"
      },
      "execution_count": 73,
      "outputs": [
        {
          "output_type": "execute_result",
          "data": {
            "text/plain": [
              "1000"
            ]
          },
          "metadata": {},
          "execution_count": 73
        }
      ]
    },
    {
      "cell_type": "code",
      "source": [
        "abt.show()"
      ],
      "metadata": {
        "colab": {
          "base_uri": "https://localhost:8080/"
        },
        "id": "tgCQxE330Joe",
        "outputId": "046b57cb-4406-4533-e2ef-471e2d0b4886"
      },
      "execution_count": 74,
      "outputs": [
        {
          "output_type": "stream",
          "name": "stdout",
          "text": [
            "+-----+---------+-------------------+---------------+-------------+-----+----------+--------------+--------------+--------------+--------------+--------------------+--------------------+------------------------+------------------------+-------------------------+---------------------+-------------------------+-------------------------+--------------------------+---------------------------+----------------------------+---------------------------+----------------------------+---------+-----------+\n",
            "|Idade|NM_GENERO|QT_DIAS_DESDE_INSCR|FL_USOU_SUPORTE|        Plano|Churn|ID_CLIENTE|VL_TOT_CONSUMO|VL_MED_CONSUMO|VL_MAX_CONSUMO|VL_MIN_CONSUMO|VL_TOT_CONS_ESPORTES|VL_MED_CONS_ESPORTES|VL_MED_U3M_CONS_ESPORTES|VL_MED_U6M_CONS_ESPORTES|VL_MED_U12M_CONS_ESPORTES|VL_MED_CONS_Alimentos|VL_MED_U3M_CONS_Alimentos|VL_MED_U6M_CONS_Alimentos|VL_MED_U12M_CONS_Alimentos|VL_RAZ_MED_U3M_U6M_CONS_ESP|VL_RAZ_MED_U6M_U12M_CONS_ESP|VL_RAZ_MED_U3M_U6M_CONS_ALI|VL_RAZ_MED_U6M_U12M_CONS_ALI|PK_DATREF|PK_DAT_PROC|\n",
            "+-----+---------+-------------------+---------------+-------------+-----+----------+--------------+--------------+--------------+--------------+--------------------+--------------------+------------------------+------------------------+-------------------------+---------------------+-------------------------+-------------------------+--------------------------+---------------------------+----------------------------+---------------------------+----------------------------+---------+-----------+\n",
            "|   21|        F|               1331|              1|Intermediário|    1|         1|       1976.56|        116.27|        199.39|          5.39|              226.73|              113.37|                   57.29|                   57.29|                    57.29|                87.81|                     null|                   187.82|                    187.82|                        1.0|                         1.0|                       null|                         1.0|   202309| 2023-09-13|\n",
            "|   21|        M|               1160|              0|Intermediário|    0|         2|        1017.8|        101.78|        192.63|         47.58|              275.47|               91.82|                   57.35|                   57.35|                    84.62|                54.79|                    47.58|                    54.79|                     54.79|                        1.0|                        0.68|                       0.87|                         1.0|   202309| 2023-09-13|\n",
            "|   62|        M|                454|              1|       Básico|    0|         3|        997.81|        110.87|        191.09|         41.91|              327.09|              163.55|                  164.27|                  164.27|                   164.27|               123.76|                     null|                     null|                      null|                        1.0|                         1.0|                       null|                        null|   202309| 2023-09-13|\n",
            "|   64|        M|                226|              1|Intermediário|    0|         4|       1009.77|        126.22|        199.35|         41.01|              199.35|              199.35|                    null|                    null|                     null|               103.19|                   103.19|                   103.19|                    103.19|                       null|                        null|                        1.0|                         1.0|   202309| 2023-09-13|\n",
            "|   61|        M|                474|              1|     Avançado|    0|         5|       1755.18|        117.01|        170.78|         16.25|              436.01|               109.0|                    null|                    null|                   148.03|               146.19|                     null|                     null|                      null|                       null|                        null|                       null|                        null|   202309| 2023-09-13|\n",
            "|   18|        M|                419|              0|       Básico|    0|         6|       1841.53|        141.66|        199.29|           8.9|              395.05|              131.68|                  127.34|                  127.34|                   127.34|               186.71|                     null|                     null|                      null|                        1.0|                         1.0|                       null|                        null|   202309| 2023-09-13|\n",
            "|   52|        M|               1334|              0|       Básico|    0|         7|       1671.35|         98.31|        180.02|         21.47|               137.2|                68.6|                    97.0|                    68.6|                     68.6|                90.15|                     null|                    51.54|                     51.54|                       1.41|                         1.0|                       null|                         1.0|   202309| 2023-09-13|\n",
            "|   44|        M|               1124|              1|Intermediário|    0|         8|        841.03|         93.45|        164.54|         22.74|              150.17|              150.17|                    null|                    null|                   150.17|                56.97|                     null|                     null|                     56.97|                       null|                        null|                       null|                        null|   202309| 2023-09-13|\n",
            "|   52|        M|               1256|              1|Intermediário|    0|         9|       1019.13|         92.65|        196.06|         14.62|              286.48|               95.49|                    null|                    null|                     null|                43.11|                    51.77|                    51.77|                     43.64|                       null|                        null|                        1.0|                        1.19|   202309| 2023-09-13|\n",
            "|   64|        F|               1197|              0|       Básico|    0|        10|        416.41|         104.1|        185.66|         15.92|                 0.0|                null|                    null|                    null|                     null|               185.66|                     null|                     null|                    185.66|                       null|                        null|                       null|                        null|   202309| 2023-09-13|\n",
            "|   50|        F|               1820|              1|Intermediário|    0|        11|        903.13|        129.02|        197.28|         29.06|               29.06|               29.06|                    null|                    null|                    29.06|               192.16|                   197.28|                   197.28|                    197.28|                       null|                        null|                        1.0|                         1.0|   202309| 2023-09-13|\n",
            "|   46|        F|                550|              0|     Avançado|    0|        12|        390.06|        130.02|        181.71|         39.81|                 0.0|                null|                    null|                    null|                     null|                39.81|                     null|                    39.81|                     39.81|                       null|                        null|                       null|                         1.0|   202309| 2023-09-13|\n",
            "|   65|        M|               1466|              0|     Avançado|    0|        13|        772.55|         77.25|        149.91|         27.54|               55.81|               55.81|                   55.81|                   55.81|                    55.81|                 49.9|                    58.54|                    58.54|                     43.04|                        1.0|                         1.0|                        1.0|                        1.36|   202309| 2023-09-13|\n",
            "|   33|        M|               1507|              0|     Avançado|    0|        14|        192.68|         64.23|        127.28|         13.86|                 0.0|                null|                    null|                    null|                     null|                 null|                     null|                     null|                      null|                       null|                        null|                       null|                        null|   202309| 2023-09-13|\n",
            "|   19|        F|               1292|              1|     Avançado|    1|        15|        158.84|        158.84|        158.84|        158.84|                 0.0|                null|                    null|                    null|                     null|                 null|                     null|                     null|                      null|                       null|                        null|                       null|                        null|   202309| 2023-09-13|\n",
            "|   22|        F|               1514|              0|       Básico|    1|        16|       1482.98|        105.93|        183.63|         19.98|              372.95|               93.24|                  183.63|                  183.63|                   183.63|                46.54|                     null|                     null|                      null|                        1.0|                         1.0|                       null|                        null|   202309| 2023-09-13|\n",
            "|   38|        F|               1483|              0|Intermediário|    1|        17|       1005.44|         77.34|        197.48|         10.01|              318.53|              106.18|                   47.32|                   47.32|                    47.32|                56.55|                     null|                     null|                     56.55|                        1.0|                         1.0|                       null|                        null|   202309| 2023-09-13|\n",
            "|   44|        F|                 32|              0|Intermediário|    0|        18|        284.77|         56.95|        138.08|         10.88|                 0.0|                null|                    null|                    null|                     null|                38.84|                     null|                     null|                      null|                       null|                        null|                       null|                        null|   202309| 2023-09-13|\n",
            "|   68|        F|               1203|              1|     Avançado|    1|        19|        790.42|          98.8|         194.6|         25.56|              220.42|               73.47|                   57.63|                   57.63|                    57.63|                 null|                     null|                     null|                      null|                        1.0|                         1.0|                       null|                        null|   202309| 2023-09-13|\n",
            "|   35|        F|               1157|              1|     Avançado|    1|        20|        979.35|         81.61|        172.52|          5.49|              476.36|              119.09|                  155.72|                  155.72|                   142.29|               136.75|                     null|                   172.52|                    136.75|                        1.0|                        1.09|                       null|                        1.26|   202309| 2023-09-13|\n",
            "+-----+---------+-------------------+---------------+-------------+-----+----------+--------------+--------------+--------------+--------------+--------------------+--------------------+------------------------+------------------------+-------------------------+---------------------+-------------------------+-------------------------+--------------------------+---------------------------+----------------------------+---------------------------+----------------------------+---------+-----------+\n",
            "only showing top 20 rows\n",
            "\n"
          ]
        }
      ]
    },
    {
      "cell_type": "markdown",
      "source": [
        "#### Salvando tabela no diretório do Drive"
      ],
      "metadata": {
        "id": "LFGDqcs1320o"
      }
    },
    {
      "cell_type": "code",
      "source": [
        "abt.write.partitionBy(\"PK_DATREF\").parquet(\"/content/drive/Shareddrives/PoD Academy/Cursos/Formação em Ciência de Dados/dados/sinteticos/ABT\")"
      ],
      "metadata": {
        "id": "UzIXG6sd0MYK"
      },
      "execution_count": 75,
      "outputs": []
    },
    {
      "cell_type": "markdown",
      "source": [
        "#### Gerando amostra aleatória"
      ],
      "metadata": {
        "id": "RGIyoEKg4p-u"
      }
    },
    {
      "cell_type": "code",
      "source": [
        "# Amostra sem reposição: 10% da população total\n",
        "sampled_abt = abt.sample(False, 0.1)\n",
        "sampled_abt.count()"
      ],
      "metadata": {
        "colab": {
          "base_uri": "https://localhost:8080/"
        },
        "id": "2FXaYxbS4UkF",
        "outputId": "90eb1eaf-510c-4e70-e83b-907d7d9b5f36"
      },
      "execution_count": 76,
      "outputs": [
        {
          "output_type": "execute_result",
          "data": {
            "text/plain": [
              "98"
            ]
          },
          "metadata": {},
          "execution_count": 76
        }
      ]
    },
    {
      "cell_type": "code",
      "source": [
        "sampled_abt.show()"
      ],
      "metadata": {
        "colab": {
          "base_uri": "https://localhost:8080/"
        },
        "id": "UvcG3zvr42FS",
        "outputId": "05d7b1aa-a08f-423d-da01-0c5b4d872e38"
      },
      "execution_count": 78,
      "outputs": [
        {
          "output_type": "stream",
          "name": "stdout",
          "text": [
            "+-----+---------+-------------------+---------------+-------------+-----+----------+--------------+--------------+--------------+--------------+--------------------+--------------------+------------------------+------------------------+-------------------------+---------------------+-------------------------+-------------------------+--------------------------+---------------------------+----------------------------+---------------------------+----------------------------+---------+-----------+\n",
            "|Idade|NM_GENERO|QT_DIAS_DESDE_INSCR|FL_USOU_SUPORTE|        Plano|Churn|ID_CLIENTE|VL_TOT_CONSUMO|VL_MED_CONSUMO|VL_MAX_CONSUMO|VL_MIN_CONSUMO|VL_TOT_CONS_ESPORTES|VL_MED_CONS_ESPORTES|VL_MED_U3M_CONS_ESPORTES|VL_MED_U6M_CONS_ESPORTES|VL_MED_U12M_CONS_ESPORTES|VL_MED_CONS_Alimentos|VL_MED_U3M_CONS_Alimentos|VL_MED_U6M_CONS_Alimentos|VL_MED_U12M_CONS_Alimentos|VL_RAZ_MED_U3M_U6M_CONS_ESP|VL_RAZ_MED_U6M_U12M_CONS_ESP|VL_RAZ_MED_U3M_U6M_CONS_ALI|VL_RAZ_MED_U6M_U12M_CONS_ALI|PK_DATREF|PK_DAT_PROC|\n",
            "+-----+---------+-------------------+---------------+-------------+-----+----------+--------------+--------------+--------------+--------------+--------------------+--------------------+------------------------+------------------------+-------------------------+---------------------+-------------------------+-------------------------+--------------------------+---------------------------+----------------------------+---------------------------+----------------------------+---------+-----------+\n",
            "|   21|        F|               1331|              1|Intermediário|    1|         1|       1976.56|        116.27|        199.39|          5.39|              226.73|              113.37|                   57.29|                   57.29|                    57.29|                87.81|                     null|                   187.82|                    187.82|                        1.0|                         1.0|                       null|                         1.0|   202309| 2023-09-13|\n",
            "|   21|        M|               1160|              0|Intermediário|    0|         2|        1017.8|        101.78|        192.63|         47.58|              275.47|               91.82|                   57.35|                   57.35|                    84.62|                54.79|                    47.58|                    54.79|                     54.79|                        1.0|                        0.68|                       0.87|                         1.0|   202309| 2023-09-13|\n",
            "|   54|        F|               1670|              1|     Avançado|    0|        28|        492.51|          98.5|        190.13|         26.83|                 0.0|                null|                    null|                    null|                     null|                26.83|                    26.83|                    26.83|                     26.83|                       null|                        null|                        1.0|                         1.0|   202309| 2023-09-13|\n",
            "|   53|        F|               1110|              0|     Avançado|    1|        30|       1254.99|         83.67|        193.38|         20.74|              267.75|               89.25|                   71.27|                   87.89|                    87.89|               103.04|                     null|                     null|                    103.04|                       0.81|                         1.0|                       null|                        null|   202309| 2023-09-13|\n",
            "|   18|        M|                384|              1|     Avançado|    0|        63|         39.89|         39.89|         39.89|         39.89|               39.89|               39.89|                   39.89|                   39.89|                    39.89|                 null|                     null|                     null|                      null|                        1.0|                         1.0|                       null|                        null|   202309| 2023-09-13|\n",
            "|   36|        M|               1802|              0|     Avançado|    0|        69|        1711.4|        122.24|        190.56|         48.09|              288.21|               72.05|                    55.6|                    55.6|                     55.6|               162.23|                     null|                     null|                      null|                        1.0|                         1.0|                       null|                        null|   202309| 2023-09-13|\n",
            "|   44|        F|               1480|              1|     Avançado|    0|        76|       1315.53|        101.19|        163.08|         14.12|               375.8|               93.95|                    null|                   78.89|                    78.89|               142.07|                     null|                     null|                      null|                       null|                         1.0|                       null|                        null|   202309| 2023-09-13|\n",
            "|   37|        M|                 72|              0|Intermediário|    0|        81|       1669.87|        139.16|        198.43|         63.97|              199.07|               99.54|                  112.49|                  112.49|                   112.49|               138.56|                   186.78|                   186.78|                    125.37|                        1.0|                         1.0|                        1.0|                        1.49|   202309| 2023-09-13|\n",
            "|   20|        M|               1569|              0|       Básico|    0|        94|        863.94|        107.99|        186.93|         33.93|              106.21|              106.21|                    null|                    null|                     null|                90.96|                     null|                     null|                     90.96|                       null|                        null|                       null|                        null|   202309| 2023-09-13|\n",
            "|   65|        M|               1671|              0|       Básico|    1|       122|        989.32|         89.94|        192.81|         19.22|              169.55|              169.55|                  169.55|                  169.55|                   169.55|               106.02|                     null|                     null|                    192.81|                        1.0|                         1.0|                       null|                        null|   202309| 2023-09-13|\n",
            "|   23|        M|                178|              0|       Básico|    0|       130|         812.0|         162.4|         199.8|         95.77|              147.45|              147.45|                    null|                    null|                     null|                 null|                     null|                     null|                      null|                       null|                        null|                       null|                        null|   202309| 2023-09-13|\n",
            "|   46|        F|                374|              0|       Básico|    0|       149|       1057.48|         88.12|        190.25|          23.4|              393.89|               98.47|                   90.12|                   90.12|                    67.88|                33.62|                     null|                     null|                      null|                        1.0|                        1.33|                       null|                        null|   202309| 2023-09-13|\n",
            "|   62|        M|               1115|              1|Intermediário|    1|       154|       1217.81|         81.19|        195.86|          8.86|              416.16|              104.04|                    null|                    null|                   189.35|                43.52|                     null|                     null|                     43.52|                       null|                        null|                       null|                        null|   202309| 2023-09-13|\n",
            "|   27|        M|               1635|              0|     Avançado|    0|       158|        216.22|        108.11|        187.89|         28.33|                 0.0|                null|                    null|                    null|                     null|                28.33|                     null|                     null|                      null|                       null|                        null|                       null|                        null|   202309| 2023-09-13|\n",
            "|   31|        F|               1641|              0|Intermediário|    1|       163|        976.19|         97.62|        191.06|         16.11|              205.62|               68.54|                    null|                    null|                    55.24|               191.06|                     null|                     null|                      null|                       null|                        null|                       null|                        null|   202309| 2023-09-13|\n",
            "|   56|        M|               1698|              1|     Avançado|    0|       170|        611.93|        122.39|        175.29|          66.6|              175.29|              175.29|                  175.29|                  175.29|                   175.29|               127.49|                     null|                     null|                    133.94|                        1.0|                         1.0|                       null|                        null|   202309| 2023-09-13|\n",
            "|   53|        F|                689|              0|       Básico|    0|       176|       1189.19|         84.94|        189.07|         15.04|              124.46|               41.49|                   62.81|                   54.71|                    54.71|               107.63|                     null|                    89.71|                     91.37|                       1.15|                         1.0|                       null|                        0.98|   202309| 2023-09-13|\n",
            "|   34|        F|                600|              0|Intermediário|    1|       179|        380.98|        190.49|        197.27|         183.7|                 0.0|                null|                    null|                    null|                     null|                183.7|                     null|                     null|                     183.7|                       null|                        null|                       null|                        null|   202309| 2023-09-13|\n",
            "|   22|        F|               1763|              1|Intermediário|    1|       186|        189.88|         94.94|        110.77|         79.11|               79.11|               79.11|                   79.11|                   79.11|                    79.11|                 null|                     null|                     null|                      null|                        1.0|                         1.0|                       null|                        null|   202309| 2023-09-13|\n",
            "|   40|        M|                538|              1|Intermediário|    0|       211|       2005.68|        111.43|        198.43|          6.03|               60.81|               60.81|                    null|                    null|                     null|               136.61|                     null|                     null|                      6.03|                       null|                        null|                       null|                        null|   202309| 2023-09-13|\n",
            "+-----+---------+-------------------+---------------+-------------+-----+----------+--------------+--------------+--------------+--------------+--------------------+--------------------+------------------------+------------------------+-------------------------+---------------------+-------------------------+-------------------------+--------------------------+---------------------------+----------------------------+---------------------------+----------------------------+---------+-----------+\n",
            "only showing top 20 rows\n",
            "\n"
          ]
        }
      ]
    },
    {
      "cell_type": "code",
      "source": [
        "abt.count()"
      ],
      "metadata": {
        "colab": {
          "base_uri": "https://localhost:8080/"
        },
        "id": "ZosRju_943bT",
        "outputId": "f591cc4f-bdfb-4021-8faa-7daf07dc0c8e"
      },
      "execution_count": 80,
      "outputs": [
        {
          "output_type": "execute_result",
          "data": {
            "text/plain": [
              "1000"
            ]
          },
          "metadata": {},
          "execution_count": 80
        }
      ]
    },
    {
      "cell_type": "code",
      "source": [],
      "metadata": {
        "id": "r4LYhtF049f3"
      },
      "execution_count": null,
      "outputs": []
    }
  ]
}